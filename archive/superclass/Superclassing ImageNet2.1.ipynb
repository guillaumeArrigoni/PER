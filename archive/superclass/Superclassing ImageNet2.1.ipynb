{
 "cells": [
  {
   "cell_type": "markdown",
   "metadata": {},
   "source": [
    "# Barebones example"
   ]
  },
  {
   "cell_type": "code",
   "execution_count": 1,
   "metadata": {},
   "outputs": [],
   "source": [
    "in_path = 'C:\\\\Annexe_D\\\\PER\\\\data'\n",
    "in_info_path = 'C:\\\\Annexe_D\\\\PER\\\\in_info'"
   ]
  },
  {
   "cell_type": "code",
   "execution_count": 2,
   "outputs": [],
   "source": [
    "superclass = {\n",
    "    \"fish\": {\n",
    "        \"great_white_shark\": \"n01484850\",\n",
    "        \"goldfish\": \"n01443537\",\n",
    "        \"hammerhead\": \"n01494475\",\n",
    "        \"lionfish\": \"n02643566\",\n",
    "    },\n",
    "    \"mammal\": {\n",
    "        \"grey_whale\": \"n02066245\",\n",
    "        \"killer_whale\": \"n02071294\",\n",
    "        \"Indian_elephant\": \"n02504013\",\n",
    "        \"bison\": \"n02410509\",\n",
    "        \"Arabian_camel\": \"n02437312\",\n",
    "        \"lesser_panda\": \"n02509815\",\n",
    "        \"giant_panda\": \"n02510455\",\n",
    "        \"hippopotamus\": \"n02398521\",\n",
    "    },\n",
    "    \"bird\": {\n",
    "        \"pelican\": \"n02051845\",\n",
    "        \"great_grey_owl\": \"n01622779\",\n",
    "        \"hummingbird\": \"n01833805\",\n",
    "        \"hornbill\": \"n01829413\",\n",
    "        \"bee_eater\": \"n01828970\",\n",
    "        \"coucal\": \"n01824575\",\n",
    "        \"lorikeet\": \"n01820546\",\n",
    "        \"macaw\": \"n01818515\",\n",
    "        \"sulphur-crested_cockatoo\": \"n01819313\",\n",
    "        \"toucan\": \"n01843383\",\n",
    "        \"red-breasted_merganser\": \"n01855032\",\n",
    "        \"goose\": \"n01855672\",\n",
    "        \"black_swan\": \"n01860187\",\n",
    "        \"bald_eagle\": \"n01614925\",\n",
    "        \"hen\": \"n01514859\",\n",
    "        \"albatross\": \"n02058221\",\n",
    "    },\n",
    "    \"feline\": {\n",
    "        \"leopard\": \"n02128385\",\n",
    "        \"lynx\": \"n02127052\",\n",
    "        \"cougar\": \"n02125311\",\n",
    "        \"Siamese_cat\": \"n02123597\",\n",
    "        \"tiger\": \"n02129604\",\n",
    "        \"lion\": \"n02129165\",\n",
    "        \"tiger_cat\": \"n02123159\",\n",
    "    },\n",
    "    \"canine\": {\n",
    "        \"beagle\": \"n02088364\",\n",
    "        \"basset\": \"n02088238\",\n",
    "    },\n",
    "    \"primate\": {\n",
    "        \"indri\": \"n02500267\",\n",
    "        \"capuchin\": \"n02492035\",\n",
    "        \"baboon\": \"n02486410\",\n",
    "        \"macaque\": \"n02487347\",\n",
    "        \"chimpanzee\": \"n02481823\",\n",
    "        \"gorilla\": \"n02480855\",\n",
    "        \"orangutan\": \"n02480495\",\n",
    "    },\n",
    "    \"reptile\": {\n",
    "        \"rock_python\": \"n01744401\",\n",
    "    },\n",
    "    \"ungulate\": {\n",
    "        \"zebra\": \"n02391049\",\n",
    "    },\n",
    "    \"aquatic\": {\n",
    "        \"great_white_shark\": \"n01484850\",\n",
    "        \"goldfish\": \"n01443537\",\n",
    "        \"hammerhead\": \"n01494475\",\n",
    "        \"lionfish\": \"n02643566\",\n",
    "        \"grey_whale\": \"n02066245\",\n",
    "        \"killer_whale\": \"n02071294\",\n",
    "    },\n",
    "    \"terrestrial\": {\n",
    "        \"hippopotamus\": \"n02398521\",\n",
    "        \"Indian_elephant\": \"n02504013\",\n",
    "        \"bison\": \"n02410509\",\n",
    "        \"Arabian_camel\": \"n02437312\",\n",
    "        \"lesser_panda\": \"n02509815\",\n",
    "        \"giant_panda\": \"n02510455\",\n",
    "        \"leopard\": \"n02128385\",\n",
    "        \"lynx\": \"n02127052\",\n",
    "        \"cougar\": \"n02125311\",\n",
    "        \"Siamese_cat\": \"n02123597\",\n",
    "        \"tiger\": \"n02129604\",\n",
    "        \"lion\": \"n02129165\",\n",
    "        \"tiger_cat\": \"n02123159\",\n",
    "        \"beagle\": \"n02088364\",\n",
    "        \"basset\": \"n02088238\",\n",
    "        \"indri\": \"n02500267\",\n",
    "        \"capuchin\": \"n02492035\",\n",
    "        \"baboon\": \"n02486410\",\n",
    "        \"macaque\": \"n02487347\",\n",
    "        \"chimpanzee\": \"n02481823\",\n",
    "        \"gorilla\": \"n02480855\",\n",
    "        \"orangutan\": \"n02480495\",\n",
    "        \"zebra\": \"n02391049\",\n",
    "        #\"rock_python\": \"n01744401\",\n",
    "    }\n",
    "}"
   ],
   "metadata": {
    "collapsed": false
   }
  },
  {
   "cell_type": "markdown",
   "metadata": {},
   "source": [
    "### Recover ImageNet hierarchy"
   ]
  },
  {
   "cell_type": "code",
   "execution_count": 3,
   "metadata": {},
   "outputs": [],
   "source": [
    "from robustness.tools.imagenet_helpers import ImageNetHierarchy\n",
    "\n",
    "in_hier = ImageNetHierarchy(in_path,\n",
    "                            in_info_path)"
   ]
  },
  {
   "cell_type": "code",
   "execution_count": 4,
   "outputs": [],
   "source": [
    "def generate_superclass_dictionary(all_superclass : dict) :\n",
    "    superclass_keys = list(all_superclass.keys())\n",
    "    reverse_dictionnary = {}\n",
    "    index_to_superclass = {}\n",
    "    for i in range(len(superclass_keys)) :\n",
    "        key = superclass_keys[i]\n",
    "        listSubClass = all_superclass[key]\n",
    "        for subClass in listSubClass :\n",
    "            reverse_dictionnary[subClass] = i\n",
    "        index_to_superclass[i] = key\n",
    "    return reverse_dictionnary, index_to_superclass"
   ],
   "metadata": {
    "collapsed": false
   }
  },
  {
   "cell_type": "markdown",
   "source": [
    "### Create dataset and loader"
   ],
   "metadata": {
    "collapsed": false
   }
  },
  {
   "cell_type": "code",
   "execution_count": 5,
   "outputs": [],
   "source": [
    "bird_superclass = list(superclass[\"bird\"].values())\n",
    "terrestrial_superclass = list(superclass[\"terrestrial\"].values())\n",
    "aquatic_superclass = list(superclass[\"aquatic\"].values())"
   ],
   "metadata": {
    "collapsed": false
   }
  },
  {
   "cell_type": "code",
   "execution_count": 6,
   "outputs": [
    {
     "name": "stdout",
     "output_type": "stream",
     "text": [
      "{'n02051845': 0, 'n01622779': 0, 'n01833805': 0, 'n01829413': 0, 'n01828970': 0, 'n01824575': 0, 'n01820546': 0, 'n01818515': 0, 'n01819313': 0, 'n01843383': 0, 'n01855032': 0, 'n01855672': 0, 'n01860187': 0, 'n01614925': 0, 'n01514859': 0, 'n02058221': 0, 'n02398521': 1, 'n02504013': 1, 'n02410509': 1, 'n02437312': 1, 'n02509815': 1, 'n02510455': 1, 'n02128385': 1, 'n02127052': 1, 'n02125311': 1, 'n02123597': 1, 'n02129604': 1, 'n02129165': 1, 'n02123159': 1, 'n02088364': 1, 'n02088238': 1, 'n02500267': 1, 'n02492035': 1, 'n02486410': 1, 'n02487347': 1, 'n02481823': 1, 'n02480855': 1, 'n02480495': 1, 'n02391049': 1, 'n01484850': 2, 'n01443537': 2, 'n01494475': 2, 'n02643566': 2, 'n02066245': 2, 'n02071294': 2}\n",
      "{0: 'bird', 1: 'terrestrial', 2: 'aquatic'}\n"
     ]
    }
   ],
   "source": [
    "all_superclass = {\n",
    "    \"bird\": bird_superclass,\n",
    "    \"terrestrial\": terrestrial_superclass,\n",
    "    \"aquatic\": aquatic_superclass\n",
    "}\n",
    "reverse_dictionnary, index_to_superclass = generate_superclass_dictionary(all_superclass)\n",
    "print(reverse_dictionnary)\n",
    "print(index_to_superclass)"
   ],
   "metadata": {
    "collapsed": false
   }
  },
  {
   "cell_type": "code",
   "execution_count": 7,
   "outputs": [],
   "source": [
    "import sys, os\n",
    "dir = \"C:\\Annexe_D\\PER\\data\\\\train\"\n",
    "if sys.version_info >= (3, 5):\n",
    "    classes = [d.name for d in os.scandir(dir) if d.is_dir()]\n",
    "else:\n",
    "    classes = [d for d in os.listdir(dir) if os.path.isdir(os.path.join(dir, d))]\n",
    "classes.sort()"
   ],
   "metadata": {
    "collapsed": false
   }
  },
  {
   "cell_type": "code",
   "execution_count": 8,
   "outputs": [
    {
     "name": "stdout",
     "output_type": "stream",
     "text": [
      "{'n01443537': 2, 'n01484850': 2, 'n01494475': 2, 'n01514859': 0, 'n01614925': 0, 'n01622779': 0, 'n01818515': 0, 'n01819313': 0, 'n01820546': 0, 'n01824575': 0, 'n01828970': 0, 'n01829413': 0, 'n01833805': 0, 'n01843383': 0, 'n01855032': 0, 'n01855672': 0, 'n01860187': 0, 'n02051845': 0, 'n02058221': 0, 'n02066245': 2, 'n02071294': 2, 'n02088238': 1, 'n02088364': 1, 'n02123159': 1, 'n02123597': 1, 'n02125311': 1, 'n02127052': 1, 'n02128385': 1, 'n02129165': 1, 'n02129604': 1, 'n02391049': 1, 'n02398521': 1, 'n02410509': 1, 'n02437312': 1, 'n02480495': 1, 'n02480855': 1, 'n02481823': 1, 'n02486410': 1, 'n02487347': 1, 'n02492035': 1, 'n02500267': 1, 'n02504013': 1, 'n02509815': 1, 'n02510455': 1, 'n02643566': 2}\n"
     ]
    }
   ],
   "source": [
    "class_to_idx = {}\n",
    "for i in range(len(classes)):\n",
    "    if classes[i] in reverse_dictionnary:\n",
    "        class_to_idx[classes[i]] = reverse_dictionnary[classes[i]]\n",
    "print(class_to_idx)"
   ],
   "metadata": {
    "collapsed": false
   }
  },
  {
   "cell_type": "code",
   "execution_count": 9,
   "outputs": [],
   "source": [
    "list_set = []\n",
    "#list_set is the values of class_to_index\n",
    "all_set = set()\n",
    "for key in class_to_idx:\n",
    "    if class_to_idx[key] not in all_set:\n",
    "        all_set.add(class_to_idx[key])\n",
    "        set_element = set()\n",
    "        set_element.add(class_to_idx[key])\n",
    "        list_set.append(set_element)"
   ],
   "metadata": {
    "collapsed": false
   }
  },
  {
   "cell_type": "code",
   "execution_count": 10,
   "outputs": [
    {
     "name": "stdout",
     "output_type": "stream",
     "text": [
      "[{2}, {0}, {1}]\n"
     ]
    }
   ],
   "source": [
    "print(list_set)"
   ],
   "metadata": {
    "collapsed": false
   }
  },
  {
   "cell_type": "code",
   "execution_count": 11,
   "metadata": {},
   "outputs": [],
   "source": [
    "from robustness import datasets\n",
    "\n",
    "custom_dataset = datasets.CustomImageNet(in_path,\n",
    "                                         list_set)"
   ]
  },
  {
   "cell_type": "code",
   "execution_count": 12,
   "outputs": [
    {
     "name": "stdout",
     "output_type": "stream",
     "text": [
      "==> Preparing dataset custom_imagenet..\n",
      "class_to_idx\n",
      "{'n01443537': 0, 'n01484850': 1, 'n01494475': 2, 'n01514859': 3, 'n01614925': 4, 'n01622779': 5, 'n01744401': 6, 'n01818515': 7, 'n01819313': 8, 'n01820546': 9, 'n01824575': 10, 'n01828970': 11, 'n01829413': 12, 'n01833805': 13, 'n01843383': 14, 'n01855032': 15, 'n01855672': 16, 'n01860187': 17, 'n02051845': 18, 'n02058221': 19, 'n02066245': 20, 'n02071294': 21, 'n02088238': 22, 'n02088364': 23, 'n02123159': 24, 'n02123597': 25, 'n02125311': 26, 'n02127052': 27, 'n02128385': 28, 'n02129165': 29, 'n02129604': 30, 'n02391049': 31, 'n02398521': 32, 'n02410509': 33, 'n02437312': 34, 'n02480495': 35, 'n02480855': 36, 'n02481823': 37, 'n02486410': 38, 'n02487347': 39, 'n02492035': 40, 'n02500267': 41, 'n02504013': 42, 'n02509815': 43, 'n02510455': 44, 'n02643566': 45}\n",
      "aaaaa\n",
      "['n01443537', 'n01484850', 'n01494475', 'n01514859', 'n01614925', 'n01622779', 'n01744401', 'n01818515', 'n01819313', 'n01820546', 'n01824575', 'n01828970', 'n01829413', 'n01833805', 'n01843383', 'n01855032', 'n01855672', 'n01860187', 'n02051845', 'n02058221', 'n02066245', 'n02071294', 'n02088238', 'n02088364', 'n02123159', 'n02123597', 'n02125311', 'n02127052', 'n02128385', 'n02129165', 'n02129604', 'n02391049', 'n02398521', 'n02410509', 'n02437312', 'n02480495', 'n02480855', 'n02481823', 'n02486410', 'n02487347', 'n02492035', 'n02500267', 'n02504013', 'n02509815', 'n02510455', 'n02643566'] {'n01443537': 0, 'n01484850': 1, 'n01494475': 2, 'n01514859': 3, 'n01614925': 4, 'n01622779': 5, 'n01744401': 6, 'n01818515': 7, 'n01819313': 8, 'n01820546': 9, 'n01824575': 10, 'n01828970': 11, 'n01829413': 12, 'n01833805': 13, 'n01843383': 14, 'n01855032': 15, 'n01855672': 16, 'n01860187': 17, 'n02051845': 18, 'n02058221': 19, 'n02066245': 20, 'n02071294': 21, 'n02088238': 22, 'n02088364': 23, 'n02123159': 24, 'n02123597': 25, 'n02125311': 26, 'n02127052': 27, 'n02128385': 28, 'n02129165': 29, 'n02129604': 30, 'n02391049': 31, 'n02398521': 32, 'n02410509': 33, 'n02437312': 34, 'n02480495': 35, 'n02480855': 36, 'n02481823': 37, 'n02486410': 38, 'n02487347': 39, 'n02492035': 40, 'n02500267': 41, 'n02504013': 42, 'n02509815': 43, 'n02510455': 44, 'n02643566': 45}\n",
      "\n",
      "\n",
      "\n",
      "\n",
      "<function get_label_mapping.<locals>.label_mapping at 0x00000238F920EF70>\n",
      "\n",
      "\n",
      "\n",
      "\n",
      "inside\n",
      "['n01443537', 'n01484850', 'n01494475'] {'n01443537': 1, 'n01484850': 2, 'n01494475': 0}\n",
      "class_to_idx\n",
      "{'n01443537': 0, 'n01484850': 1, 'n01494475': 2, 'n01514859': 3, 'n01614925': 4, 'n01622779': 5, 'n01744401': 6, 'n01818515': 7, 'n01819313': 8, 'n01820546': 9, 'n01824575': 10, 'n01828970': 11, 'n01829413': 12, 'n01833805': 13, 'n01843383': 14, 'n01855032': 15, 'n01855672': 16, 'n01860187': 17, 'n02051845': 18, 'n02058221': 19, 'n02066245': 20, 'n02071294': 21, 'n02088238': 22, 'n02088364': 23, 'n02123159': 24, 'n02123597': 25, 'n02125311': 26, 'n02127052': 27, 'n02128385': 28, 'n02129165': 29, 'n02129604': 30, 'n02391049': 31, 'n02398521': 32, 'n02410509': 33, 'n02437312': 34, 'n02480495': 35, 'n02480855': 36, 'n02481823': 37, 'n02486410': 38, 'n02487347': 39, 'n02492035': 40, 'n02500267': 41, 'n02504013': 42, 'n02509815': 43, 'n02510455': 44, 'n02643566': 45}\n",
      "aaaaa\n",
      "['n01443537', 'n01484850', 'n01494475', 'n01514859', 'n01614925', 'n01622779', 'n01744401', 'n01818515', 'n01819313', 'n01820546', 'n01824575', 'n01828970', 'n01829413', 'n01833805', 'n01843383', 'n01855032', 'n01855672', 'n01860187', 'n02051845', 'n02058221', 'n02066245', 'n02071294', 'n02088238', 'n02088364', 'n02123159', 'n02123597', 'n02125311', 'n02127052', 'n02128385', 'n02129165', 'n02129604', 'n02391049', 'n02398521', 'n02410509', 'n02437312', 'n02480495', 'n02480855', 'n02481823', 'n02486410', 'n02487347', 'n02492035', 'n02500267', 'n02504013', 'n02509815', 'n02510455', 'n02643566'] {'n01443537': 0, 'n01484850': 1, 'n01494475': 2, 'n01514859': 3, 'n01614925': 4, 'n01622779': 5, 'n01744401': 6, 'n01818515': 7, 'n01819313': 8, 'n01820546': 9, 'n01824575': 10, 'n01828970': 11, 'n01829413': 12, 'n01833805': 13, 'n01843383': 14, 'n01855032': 15, 'n01855672': 16, 'n01860187': 17, 'n02051845': 18, 'n02058221': 19, 'n02066245': 20, 'n02071294': 21, 'n02088238': 22, 'n02088364': 23, 'n02123159': 24, 'n02123597': 25, 'n02125311': 26, 'n02127052': 27, 'n02128385': 28, 'n02129165': 29, 'n02129604': 30, 'n02391049': 31, 'n02398521': 32, 'n02410509': 33, 'n02437312': 34, 'n02480495': 35, 'n02480855': 36, 'n02481823': 37, 'n02486410': 38, 'n02487347': 39, 'n02492035': 40, 'n02500267': 41, 'n02504013': 42, 'n02509815': 43, 'n02510455': 44, 'n02643566': 45}\n",
      "\n",
      "\n",
      "\n",
      "\n",
      "<function get_label_mapping.<locals>.label_mapping at 0x00000238F920EF70>\n",
      "\n",
      "\n",
      "\n",
      "\n",
      "inside\n",
      "['n01443537', 'n01484850', 'n01494475'] {'n01443537': 1, 'n01484850': 2, 'n01494475': 0}\n",
      "\n",
      "\n",
      "\n",
      "\n",
      "azeazeaze\n",
      "Dataset ImageFolder\n",
      "    Number of datapoints: 2341\n",
      "    Root Location: C:\\Annexe_D\\PER\\data\\train\n",
      "    Transforms (if any): Compose(\n",
      "                             RandomResizedCrop(size=(224, 224), scale=(0.08, 1.0), ratio=(0.75, 1.3333), interpolation=bilinear), antialias=None)\n",
      "                             RandomHorizontalFlip(p=0.5)\n",
      "                             ColorJitter(brightness=[0.9, 1.1], contrast=[0.9, 1.1], saturation=[0.9, 1.1], hue=None)\n",
      "                             ToTensor()\n",
      "                             <robustness.data_augmentation.Lighting object at 0x0000023889543C70>\n",
      "                         )\n",
      "    Target Transforms (if any): None\n",
      "\n",
      "\n",
      "\n",
      "\n",
      "Hare\n",
      "Train set size: 2341\n",
      "Test set size: 780\n"
     ]
    }
   ],
   "source": [
    "train_loader, test_loader = custom_dataset.make_loaders(workers=4,\n",
    "                                                        batch_size=5)\n",
    "\n",
    "print(f\"Train set size: {len(train_loader.dataset.targets)}\")\n",
    "print(f\"Test set size: {len(test_loader.dataset.targets)}\")"
   ],
   "metadata": {
    "collapsed": false
   }
  },
  {
   "cell_type": "code",
   "execution_count": 13,
   "outputs": [
    {
     "ename": "ZeroDivisionError",
     "evalue": "division by zero",
     "output_type": "error",
     "traceback": [
      "\u001B[1;31m---------------------------------------------------------------------------\u001B[0m",
      "\u001B[1;31mZeroDivisionError\u001B[0m                         Traceback (most recent call last)",
      "Cell \u001B[1;32mIn[13], line 1\u001B[0m\n\u001B[1;32m----> 1\u001B[0m \u001B[38;5;241;43m0\u001B[39;49m\u001B[38;5;241;43m/\u001B[39;49m\u001B[38;5;241;43m0\u001B[39;49m\n",
      "\u001B[1;31mZeroDivisionError\u001B[0m: division by zero"
     ]
    }
   ],
   "source": [
    "0/0"
   ],
   "metadata": {
    "collapsed": false
   }
  },
  {
   "cell_type": "code",
   "execution_count": null,
   "outputs": [],
   "source": [
    "from robustness.tools.vis_tools import show_image_row\n",
    "%matplotlib inline\n",
    "\n",
    "iterator = enumerate(train_loader)\n",
    "\n",
    "for _ in range(5):\n",
    "    _, (im, lab) = next(iterator)\n",
    "\n",
    "    print(lab)"
   ],
   "metadata": {
    "collapsed": false
   }
  },
  {
   "cell_type": "code",
   "execution_count": null,
   "metadata": {},
   "outputs": [],
   "source": [
    "from robustness.tools.vis_tools import show_image_row\n",
    "%matplotlib inline\n",
    "\n",
    "iterator = enumerate(train_loader)\n",
    "\n",
    "for _ in range(5):\n",
    "    _, (im, lab) = next(iterator)\n",
    "\n",
    "    show_image_row([im],\n",
    "                   tlist=[[index_to_superclass[int(k)].split(',')[0] for k in lab]],\n",
    "                  size=(6, 6),\n",
    "                  fontsize=22)"
   ]
  },
  {
   "cell_type": "code",
   "execution_count": null,
   "metadata": {},
   "outputs": [],
   "source": [
    "import torch\n",
    "\n",
    "# Sauvegarde des datasets\n",
    "torch.save(train_loader.dataset, \"train_dataset_superclass.pt\")\n",
    "torch.save(test_loader.dataset, \"test_dataset_superclass.pt\")\n"
   ]
  },
  {
   "cell_type": "code",
   "execution_count": null,
   "outputs": [],
   "source": [],
   "metadata": {
    "collapsed": false
   }
  }
 ],
 "metadata": {
  "kernelspec": {
   "display_name": "Python 3",
   "language": "python",
   "name": "python3"
  },
  "language_info": {
   "codemirror_mode": {
    "name": "ipython",
    "version": 3
   },
   "file_extension": ".py",
   "mimetype": "text/x-python",
   "name": "python",
   "nbconvert_exporter": "python",
   "pygments_lexer": "ipython3",
   "version": "3.6.3"
  }
 },
 "nbformat": 4,
 "nbformat_minor": 2
}
