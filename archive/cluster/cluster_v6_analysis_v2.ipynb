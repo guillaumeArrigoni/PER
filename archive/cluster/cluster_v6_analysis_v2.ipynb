{
 "cells": [
  {
   "cell_type": "code",
   "execution_count": 1,
   "metadata": {
    "collapsed": true
   },
   "outputs": [],
   "source": [
    "import os\n",
    "import re\n",
    "import json\n",
    "import matplotlib.cm as cm\n",
    "import numpy as np\n",
    "import matplotlib.pyplot as plt"
   ]
  },
  {
   "cell_type": "code",
   "execution_count": 30,
   "outputs": [
    {
     "name": "stdout",
     "output_type": "stream",
     "text": [
      "{0: [1, 0, 1, 0, 0, 1, 0, 0, 1, 0, 1, 1, 1, 1, 0, 0, 0, 0, 1, 1], 1: [0, 1, 0, 1, 0, 0, 0, 1, 0, 1, 0, 0, 0, 0, 0, 0, 0, 1, 0, 0], 2: [0, 0, 0, 0, 0, 0, 0, 0, 0, 0, 0, 0, 0, 0, 1, 0, 1, 0, 0, 0], 3: [0, 0, 0, 0, 1, 0, 1, 0, 0, 0, 0, 0, 0, 0, 0, 1, 0, 0, 0, 0]}\n"
     ]
    }
   ],
   "source": [
    "import numpy as np\n",
    "\n",
    "def listes_binaire_par_valeur(lst):\n",
    "    arr = np.array(lst)\n",
    "    indices_dict = {}\n",
    "    for val in np.unique(arr):\n",
    "        binaire = np.zeros(len(arr), dtype=int)  # Crée une liste de zéros de taille 512\n",
    "        binaire[np.where(arr == val)[0]] = 1     # Met un 1 aux indices correspondant à la valeur\n",
    "        indices_dict[val] = binaire.tolist()\n",
    "    return indices_dict\n",
    "\n",
    "# Exemple d'utilisation :\n",
    "lst = [0, 1, 0, 1, 3, 0, 3, 1, 0, 1, 0, 0, 0, 0, 2, 3, 2, 1, 0, 0]\n",
    "result = listes_binaire_par_valeur(lst)\n",
    "print(result)\n"
   ],
   "metadata": {
    "collapsed": false
   }
  },
  {
   "cell_type": "code",
   "execution_count": 31,
   "outputs": [
    {
     "name": "stdout",
     "output_type": "stream",
     "text": [
      "[[1 2]\n",
      " [3 4]\n",
      " [5 6]\n",
      " [7 8]]\n"
     ]
    }
   ],
   "source": [
    "import numpy as np\n",
    "\n",
    "# Création de deux grands np.array contenant des sous-np.array\n",
    "array1 = np.array([np.array([1, 2]), np.array([3, 4])], dtype=object)\n",
    "array2 = np.array([np.array([5, 6]), np.array([7, 8])], dtype=object)\n",
    "\n",
    "# Concaténation des deux grands tableaux\n",
    "result = np.concatenate((array1, array2), axis=0)\n",
    "\n",
    "print(result)\n"
   ],
   "metadata": {
    "collapsed": false
   }
  },
  {
   "cell_type": "code",
   "execution_count": 2,
   "outputs": [],
   "source": [
    "def list_files(directory, extension:str=\".npz\"):\n",
    "    \"\"\"Liste tous les fichiers .npz dans le dossier spécifié.\"\"\"\n",
    "    return [f for f in os.listdir(directory) if f.endswith(extension)]"
   ],
   "metadata": {
    "collapsed": false
   }
  },
  {
   "cell_type": "code",
   "execution_count": 3,
   "outputs": [],
   "source": [
    "def load_and_process_flat(file_name : str,\n",
    "                          base_path,\n",
    "                          layer_name : str = \"layer_40\"):\n",
    "    data = np.load(f\"{base_path}/heatmap/{file_name}\")\n",
    "    heatmaps = data[layer_name]\n",
    "    heatmaps = np.abs(heatmaps)\n",
    "    heatmaps_flat = heatmaps.reshape(heatmaps.shape[0], -1)\n",
    "    return heatmaps, heatmaps_flat"
   ],
   "metadata": {
    "collapsed": false
   }
  },
  {
   "cell_type": "code",
   "execution_count": 21,
   "outputs": [],
   "source": [
    "def get_feature_per_cluster(data, best_number_cluster, best_method, picture_name, base_path):\n",
    "    cluster_label = data[f\"{best_number_cluster}_{best_method}\"]\n",
    "    print(cluster_label)\n",
    "    index_in_each_cluster = indices_par_valeur(cluster_label)\n",
    "    print(index_in_each_cluster)\n",
    "    heatmaps, _ = load_and_process_flat(picture_name, base_path, layer_name=\"layer_40\")\n",
    "    heatmaps_by_cluster = {}\n",
    "    vmin, vmax = float(\"inf\"), float(\"-inf\")\n",
    "    for cluster in set(cluster_label):\n",
    "        if cluster == -1:\n",
    "            continue\n",
    "        indices = np.where(cluster_label == cluster)[0]\n",
    "        cluster_heatmaps = heatmaps[indices]\n",
    "        heatmaps_by_cluster[cluster] = cluster_heatmaps\n",
    "\n",
    "        if cluster_heatmaps.shape[0] > 0:\n",
    "            combined_heatmap = np.sum(cluster_heatmaps, axis=0)\n",
    "            vmin = min(vmin, combined_heatmap.min())\n",
    "            vmax = max(vmax, combined_heatmap.max())\n",
    "    return heatmaps_by_cluster, vmin, vmax, index_in_each_cluster"
   ],
   "metadata": {
    "collapsed": false
   }
  },
  {
   "cell_type": "code",
   "execution_count": 5,
   "outputs": [],
   "source": [
    "def indices_par_valeur(lst):\n",
    "    arr = np.array(lst)\n",
    "    return {val: np.where(arr == val)[0].tolist() for val in np.unique(arr)}"
   ],
   "metadata": {
    "collapsed": false
   }
  },
  {
   "cell_type": "code",
   "execution_count": 6,
   "outputs": [],
   "source": [
    "def get_filename_without_extension(path: str) -> str:\n",
    "    return os.path.splitext(os.path.basename(path))[0]"
   ],
   "metadata": {
    "collapsed": false
   }
  },
  {
   "cell_type": "code",
   "execution_count": 7,
   "outputs": [],
   "source": [
    "def get_all_different_element_in_cluster_meaning(dictionnary_file_to_clusters_meaning):\n",
    "    all_values = []\n",
    "    for key_file_name in dictionnary_file_to_clusters_meaning:\n",
    "        for _, value in dictionnary_file_to_clusters_meaning[key_file_name].items():\n",
    "            if value not in all_values:\n",
    "                all_values.append(value)\n",
    "    return all_values"
   ],
   "metadata": {
    "collapsed": false
   }
  },
  {
   "cell_type": "code",
   "execution_count": 8,
   "outputs": [],
   "source": [
    "def extract_code(filename: str) -> str:\n",
    "    match = re.match(r\"(n\\d+)_\", filename)\n",
    "    return match.group(1) if match else \"\""
   ],
   "metadata": {
    "collapsed": false
   }
  },
  {
   "cell_type": "code",
   "execution_count": 9,
   "outputs": [],
   "source": [
    "def reverse_dict_list(d):\n",
    "    reversed_dict = {}\n",
    "    for key, values in d.items():\n",
    "        for value in values:\n",
    "            reversed_dict[value] = key\n",
    "    return reversed_dict"
   ],
   "metadata": {
    "collapsed": false
   }
  },
  {
   "cell_type": "code",
   "execution_count": 10,
   "outputs": [],
   "source": [
    "def get_colors(n, cmap_name='tab10'):\n",
    "    cmap = cm.get_cmap(cmap_name, n)  # Obtenir la colormap avec n couleurs distinctes\n",
    "    return [cmap(i) for i in range(n)]"
   ],
   "metadata": {
    "collapsed": false
   }
  },
  {
   "cell_type": "code",
   "execution_count": 11,
   "outputs": [],
   "source": [
    "def compare_2_dict(dictionary_comparison_2_files : dict,\n",
    "                           list_colors : list = None,\n",
    "                           dictionary_class_index : dict = None):\n",
    "    file_name1, file_name2 = dictionary_comparison_2_files[FILE_NAME_CONST]\n",
    "    index_in_each_cluster1, index_in_each_cluster2 = dictionary_comparison_2_files[INDEX_IN_EACH_CLUSTER_CONST]\n",
    "    dict_equivalence1, dict_equivalence2 = dictionary_comparison_2_files[DICTIONARY_EQUIVALENCE_CONST]\n",
    "    all_values = dictionary_comparison_2_files[ALL_VALUES_CONST]\n",
    "    class_name_1 = extract_code(file_name1)\n",
    "    class_name_2 = extract_code(file_name2)\n",
    "    if list_colors is None:\n",
    "        list_colors = get_colors(len(index_in_each_cluster2))\n",
    "    if dictionary_class_index is None:\n",
    "        class_name_1 = \"\"\n",
    "        class_name_2 = \"\"\n",
    "    else :\n",
    "        class_name_1 = dictionary_class_index[class_name_1]\n",
    "        class_name_2 = dictionary_class_index[class_name_2]\n",
    "\n",
    "    reversed_dict_1 = reverse_dict_list(index_in_each_cluster1)\n",
    "    global_dict = {class_name: [0] * len(index_in_each_cluster2) for class_name in all_values}\n",
    "\n",
    "    for i, (key2, indices) in enumerate(index_in_each_cluster2.items()):\n",
    "        for index in indices:\n",
    "            class_name_dict1 = dict_equivalence1.get(reversed_dict_1.get(index))\n",
    "            if class_name_dict1:\n",
    "                global_dict[class_name_dict1][i] += 1\n",
    "\n",
    "    x = range(len(all_values))\n",
    "    bottom = [0] * len(all_values)\n",
    "\n",
    "    plt.figure(figsize=(10, 6))\n",
    "\n",
    "    for i, (key2, color) in enumerate(zip(index_in_each_cluster2.keys(), list_colors)):\n",
    "        values = [global_dict[class_name][i] for class_name in all_values]\n",
    "        bars = plt.bar(x, values, bottom=bottom, label=dict_equivalence2[key2], color=color)\n",
    "\n",
    "        for bar, value in zip(bars, values):\n",
    "            if value > 0:\n",
    "                plt.text(bar.get_x() + bar.get_width() / 2, bar.get_y() + bar.get_height() / 2,\n",
    "                         str(value), ha='center', va='center', fontsize=9, color='black')\n",
    "\n",
    "        bottom = [b + v for b, v in zip(bottom, values)]\n",
    "\n",
    "    for i, total in enumerate(bottom):\n",
    "        if total > 0:\n",
    "            plt.text(i, total, str(total), ha='center', va='bottom', fontsize=10, fontweight='bold')\n",
    "\n",
    "    plt.xticks(x, all_values, rotation=45)\n",
    "    plt.xlabel(f\"Classes de {file_name1} ({class_name_1})\")\n",
    "    plt.ylabel(f\"Nombre d'éléments\")\n",
    "    plt.title(f\"Comparaison des classes entre {file_name1} ({class_name_1}) et {file_name2} ({class_name_2})\")\n",
    "    plt.legend(title=f\"Classes de {file_name2} ({class_name_2})\")\n",
    "    plt.tight_layout()\n",
    "    plt.show()"
   ],
   "metadata": {
    "collapsed": false
   }
  },
  {
   "cell_type": "code",
   "execution_count": 12,
   "outputs": [],
   "source": [
    "def compare_X_dict(dictionnary_file_to_clusters_meaning: dict,\n",
    "                              dictionary_file_to_index_in_each_cluster: dict,\n",
    "                              all_values: list,\n",
    "                              base_path : str,\n",
    "                              save_name_prefix : str,\n",
    "                              list_colors: list = None,\n",
    "                              dictionary_class_index: dict = None,\n",
    "                              seuil_to_None : int = 1,\n",
    "                              seuil_is_mean : bool = False,\n",
    "                              save_files : bool = True):\n",
    "    class_name_to_id = {class_name: i for i, class_name in enumerate(all_values)}\n",
    "    class_id_to_name = {i: class_name for i, class_name in enumerate(all_values)}\n",
    "\n",
    "    global_dict = {class_name: [0] * (len(list(dictionnary_file_to_clusters_meaning.keys()))+1) for class_name in all_values}\n",
    "    local_dict = {}\n",
    "    local_dict_max = {}\n",
    "    class_id_to_all_features = {class_name: [] for class_name in all_values}\n",
    "\n",
    "    for file_name in dictionnary_file_to_clusters_meaning.keys():\n",
    "        for class_id in dictionnary_file_to_clusters_meaning[file_name].keys():\n",
    "            class_name = dictionnary_file_to_clusters_meaning[file_name][class_id]\n",
    "            list_feature_id = dictionary_file_to_index_in_each_cluster[file_name][class_id]\n",
    "\n",
    "            for feature_id in list_feature_id:\n",
    "                if feature_id not in local_dict:\n",
    "                    local_dict[feature_id] = [0] * len(all_values)\n",
    "\n",
    "                class_id = class_name_to_id[class_name]\n",
    "                local_dict[feature_id][class_id] += 1\n",
    "\n",
    "    if seuil_is_mean:\n",
    "        seuil_to_None = len(dictionnary_file_to_clusters_meaning.keys()) // 2\n",
    "\n",
    "    for feature_id in local_dict.keys():\n",
    "        occurrences = local_dict[feature_id]\n",
    "        best_index = occurrences.index(max(occurrences))\n",
    "        nb_occurrence = occurrences[best_index]\n",
    "\n",
    "        if nb_occurrence <= seuil_to_None:\n",
    "            best_index = class_name_to_id[CLUSTER_FEATURE_NONE]\n",
    "\n",
    "        local_dict_max[feature_id] = (best_index, nb_occurrence)  # (index de la classe, nombre d'occurrences)\n",
    "        class_name = class_id_to_name[best_index]\n",
    "        class_id_to_all_features[class_name].append(feature_id)\n",
    "\n",
    "        if nb_occurrence < len(global_dict[class_name]):\n",
    "            global_dict[class_name][nb_occurrence] += 1\n",
    "\n",
    "    if save_files:\n",
    "        save_dir = os.path.join(base_path, \"clusters_analysis\")\n",
    "        os.makedirs(save_dir, exist_ok=True)\n",
    "\n",
    "        np.savez(os.path.join(save_dir, f\"{save_name_prefix}_{SUFFIX_NB_LEVEL_OCCURENCE_PER_CLASS}.npz\"), **global_dict)\n",
    "        np.savez(os.path.join(save_dir, f\"{save_name_prefix}_{SUFFIX_CLASS_AND_OCCURENCE_PER_FEATURE}.npz\"), **{str(k): v for k, v in local_dict_max.items()})\n",
    "        np.savez(os.path.join(save_dir, f\"{save_name_prefix}_{SUFFIX_ALL_FEATURE_IN_EACH_CLASS}.npz\"), **{str(k): v for k, v in class_id_to_all_features.items()})\n",
    "\n",
    "    if list_colors is None:\n",
    "        cmap = plt.get_cmap('viridis')\n",
    "        list_colors = [cmap(i / (len(all_values))) for i in range(len(all_values))]\n",
    "\n",
    "    class_names = list(global_dict.keys())\n",
    "    occurrence_levels = list(range(1, len(list(dictionnary_file_to_clusters_meaning.keys()))+1))\n",
    "    bottom = [0] * len(class_names)\n",
    "\n",
    "    plt.figure(figsize=(12, 7))\n",
    "\n",
    "    for occ_level, color in zip(occurrence_levels, list_colors):\n",
    "        values = [global_dict[class_name][occ_level] for class_name in class_names]\n",
    "        bars = plt.bar(class_names, values, bottom=bottom, color=color, label=f\"{occ_level} occurrence{'s' if occ_level != 1 else ''}\")\n",
    "\n",
    "        for bar, value in zip(bars, values):\n",
    "            if value > 0:\n",
    "                height = bar.get_height()\n",
    "                plt.text(bar.get_x() + bar.get_width() / 2, bar.get_y() + height / 2, str(value), ha='center', va='center', fontsize=9)\n",
    "\n",
    "\n",
    "        bottom = [sum(x) for x in zip(bottom, values)]\n",
    "\n",
    "    plt.xlabel('Classes')\n",
    "    plt.ylabel('Nombre de caractéristiques')\n",
    "    plt.title('Distribution empilée des occurrences par classe')\n",
    "    plt.xticks(rotation=45, ha='right')\n",
    "    plt.legend(title=\"Nombre d'occurrences\")\n",
    "    plt.tight_layout()\n",
    "    plt.show()\n",
    "\n",
    "\n"
   ],
   "metadata": {
    "collapsed": false
   }
  },
  {
   "cell_type": "code",
   "execution_count": 13,
   "outputs": [],
   "source": [
    "SUFFIX_NB_LEVEL_OCCURENCE_PER_CLASS = \"nb_level_occurence_per_class\"\n",
    "SUFFIX_CLASS_AND_OCCURENCE_PER_FEATURE = \"class_and_occurence_per_feature\"\n",
    "SUFFIX_ALL_FEATURE_IN_EACH_CLASS = \"all_feature_in_each_class\""
   ],
   "metadata": {
    "collapsed": false
   }
  },
  {
   "cell_type": "code",
   "execution_count": 14,
   "outputs": [],
   "source": [
    "GMM_CONST = \"GMM\"\n",
    "KMEANS_CONST = \"KMeans\"\n",
    "SPECTRAL_CONST = \"SpectralClustering\"\n",
    "AGGLOMERATIVE_CONST = \"AgglomerativeClustering\"\n",
    "HDBSCAN_CONST = \"HDBSCAN\""
   ],
   "metadata": {
    "collapsed": false
   }
  },
  {
   "cell_type": "code",
   "execution_count": 15,
   "outputs": [],
   "source": [
    "CLUSTER_FEATURE_NONE = \"None\"\n",
    "CLUSTER_FEATURE_EYE = \"Eye\"\n",
    "CLUSTER_FEATURE_HEAD = \"Head\"\n",
    "CLUSTER_FEATURE_BODY = \"Body\"\n",
    "CLUSTER_FEATURE_BEAK = \"Beak\"\n",
    "CLUSTER_FEATURE_WING = \"Wing\"\n",
    "CLUSTER_FEATURE_TAIL = \"Tail\"\n",
    "CLUSTER_FEATURE_LEG = \"Leg\""
   ],
   "metadata": {
    "collapsed": false
   }
  },
  {
   "cell_type": "code",
   "execution_count": 16,
   "outputs": [],
   "source": [
    "dictionary_file_to_best_clustering = {\n",
    "    \"n01829413_46\" : (4, KMEANS_CONST),\n",
    "    \"n01829413_5429\" : (4, KMEANS_CONST),\n",
    "}"
   ],
   "metadata": {
    "collapsed": false
   }
  },
  {
   "cell_type": "code",
   "execution_count": 17,
   "outputs": [],
   "source": [
    "dictionnary_file_to_clusters_meaning = {\n",
    "    \"n01829413_46\" : {\n",
    "        0: CLUSTER_FEATURE_NONE,\n",
    "        1: CLUSTER_FEATURE_EYE,\n",
    "        2: CLUSTER_FEATURE_BEAK,\n",
    "        3: CLUSTER_FEATURE_WING,\n",
    "    },\n",
    "    \"n01829413_5429\" : {\n",
    "        0: CLUSTER_FEATURE_WING,\n",
    "        1: CLUSTER_FEATURE_TAIL,\n",
    "        2: CLUSTER_FEATURE_EYE,\n",
    "        3: CLUSTER_FEATURE_NONE,\n",
    "    },\n",
    "}"
   ],
   "metadata": {
    "collapsed": false
   }
  },
  {
   "cell_type": "code",
   "execution_count": 18,
   "outputs": [],
   "source": [
    "base_path = \"./data/v6/clusters\""
   ],
   "metadata": {
    "collapsed": false
   }
  },
  {
   "cell_type": "code",
   "execution_count": 19,
   "outputs": [],
   "source": [
    "directory_clusters = f\"{base_path}/clusters\"\n",
    "files_clusters = list_files(directory_clusters, extension=\".npz\")"
   ],
   "metadata": {
    "collapsed": false
   }
  },
  {
   "cell_type": "code",
   "execution_count": 20,
   "outputs": [],
   "source": [
    "with open(f\"{base_path}/imagenet_class_index_reversed.json\", \"r\") as file:\n",
    "    dictionary_class_index = json.load(file)"
   ],
   "metadata": {
    "collapsed": false
   }
  },
  {
   "cell_type": "code",
   "execution_count": 22,
   "outputs": [
    {
     "name": "stdout",
     "output_type": "stream",
     "text": [
      "[0 1 0 1 3 0 3 1 0 1 0 0 0 0 2 3 2 1 0 0 2 2 0 2 1 1 2 1 0 3 2 1 1 1 1 2 1\n",
      " 3 1 3 1 1 0 2 3 1 0 1 1 1 2 0 0 1 1 2 0 0 3 3 2 0 1 1 3 0 1 3 2 0 1 1 1 1\n",
      " 1 1 1 2 2 1 1 0 2 0 0 2 0 1 0 2 1 1 1 1 1 0 2 1 1 1 1 0 2 1 3 2 1 1 3 1 1\n",
      " 2 1 0 1 3 2 1 3 3 2 1 1 1 0 0 1 2 1 1 1 3 2 3 1 3 2 1 0 0 2 3 1 2 1 1 1 1\n",
      " 2 1 1 2 1 1 2 0 1 0 1 1 2 3 2 1 1 1 1 2 0 1 0 1 1 1 2 0 3 1 1 1 3 1 1 0 2\n",
      " 1 1 1 3 3 0 0 1 1 1 0 1 3 3 1 0 0 1 1 3 1 1 1 1 3 1 3 1 1 1 1 1 1 3 1 2 2\n",
      " 2 1 0 0 0 3 1 0 2 1 2 1 1 1 1 2 2 3 0 1 1 1 1 0 2 1 0 3 1 3 2 1 1 1 1 1 3\n",
      " 3 3 1 1 1 0 2 3 1 2 1 1 2 0 1 0 2 1 1 2 1 3 1 0 1 2 1 2 2 1 1 2 1 3 2 0 2\n",
      " 2 0 3 0 2 3 1 3 0 0 1 2 1 1 2 1 0 1 3 3 2 3 1 0 3 0 1 3 1 0 2 2 3 3 0 2 0\n",
      " 1 1 1 1 3 2 3 1 3 3 0 2 1 1 1 1 1 2 1 1 0 3 0 2 1 3 0 0 2 0 2 0 2 1 3 2 3\n",
      " 1 1 3 0 3 1 1 1 1 2 1 3 2 1 1 3 0 1 1 0 1 1 1 0 1 1 2 2 0 0 1 2 3 1 2 3 1\n",
      " 0 0 3 2 1 3 2 1 0 2 1 1 1 2 0 1 1 1 2 1 1 2 2 1 0 1 3 0 1 3 3 2 3 0 3 0 3\n",
      " 1 3 1 3 3 0 2 3 1 0 1 2 0 2 0 1 3 2 1 1 3 3 3 3 1 3 1 2 3 0 2 3 2 0 2 1 1\n",
      " 0 2 1 2 3 1 3 3 1 3 2 1 3 0 0 1 3 1 1 3 0 1 3 2 1 0 3 2 1 3 1]\n",
      "{0: [0, 2, 5, 8, 10, 11, 12, 13, 18, 19, 22, 28, 42, 46, 51, 52, 56, 57, 61, 65, 69, 81, 83, 84, 86, 88, 95, 101, 113, 124, 125, 138, 139, 155, 157, 168, 170, 175, 183, 190, 191, 195, 200, 201, 224, 225, 226, 229, 240, 245, 248, 264, 272, 274, 282, 294, 297, 299, 304, 305, 312, 319, 321, 325, 330, 332, 343, 353, 355, 359, 360, 362, 364, 373, 386, 389, 393, 398, 399, 407, 408, 415, 421, 431, 434, 440, 442, 449, 453, 456, 458, 473, 477, 481, 494, 495, 501, 506], 1: [1, 3, 7, 9, 17, 24, 25, 27, 31, 32, 33, 34, 36, 38, 40, 41, 45, 47, 48, 49, 53, 54, 62, 63, 66, 70, 71, 72, 73, 74, 75, 76, 79, 80, 87, 90, 91, 92, 93, 94, 97, 98, 99, 100, 103, 106, 107, 109, 110, 112, 114, 117, 121, 122, 123, 126, 128, 129, 130, 134, 137, 142, 144, 145, 146, 147, 149, 150, 152, 153, 156, 158, 159, 163, 164, 165, 166, 169, 171, 172, 173, 177, 178, 179, 181, 182, 185, 186, 187, 192, 193, 194, 196, 199, 202, 203, 205, 206, 207, 208, 210, 212, 213, 214, 215, 216, 217, 219, 223, 228, 231, 233, 234, 235, 236, 241, 242, 243, 244, 247, 250, 253, 254, 255, 256, 257, 261, 262, 263, 267, 269, 270, 273, 276, 277, 279, 281, 283, 285, 288, 289, 291, 302, 306, 308, 309, 311, 313, 318, 322, 324, 333, 334, 335, 336, 340, 345, 346, 347, 348, 349, 351, 352, 357, 366, 370, 371, 375, 376, 377, 378, 380, 383, 384, 387, 388, 390, 391, 392, 394, 395, 400, 403, 406, 411, 414, 417, 418, 419, 422, 423, 424, 426, 427, 430, 432, 435, 444, 446, 452, 454, 459, 462, 463, 468, 470, 479, 480, 483, 486, 489, 492, 496, 498, 499, 502, 505, 509, 511], 2: [14, 16, 20, 21, 23, 26, 30, 35, 43, 50, 55, 60, 68, 77, 78, 82, 85, 89, 96, 102, 105, 111, 116, 120, 127, 132, 136, 140, 143, 148, 151, 154, 160, 162, 167, 174, 184, 220, 221, 222, 230, 232, 237, 238, 246, 252, 265, 268, 271, 275, 278, 284, 286, 287, 290, 293, 295, 296, 300, 307, 310, 316, 326, 327, 331, 338, 344, 350, 356, 361, 363, 365, 368, 379, 382, 396, 397, 401, 404, 410, 413, 416, 420, 425, 428, 429, 438, 450, 455, 457, 461, 471, 474, 476, 478, 482, 484, 491, 504, 508], 3: [4, 6, 15, 29, 37, 39, 44, 58, 59, 64, 67, 104, 108, 115, 118, 119, 131, 133, 135, 141, 161, 176, 180, 188, 189, 197, 198, 204, 209, 211, 218, 227, 239, 249, 251, 258, 259, 260, 266, 280, 292, 298, 301, 303, 314, 315, 317, 320, 323, 328, 329, 337, 339, 341, 342, 354, 358, 367, 369, 372, 374, 381, 385, 402, 405, 409, 412, 433, 436, 437, 439, 441, 443, 445, 447, 448, 451, 460, 464, 465, 466, 467, 469, 472, 475, 485, 487, 488, 490, 493, 497, 500, 503, 507, 510]}\n",
      "[0 1 3 1 0 1 2 1 0 2 2 1 2 2 3 1 2 0 0 0 3 2 0 2 1 2 0 3 1 2 2 1 2 1 2 2 2\n",
      " 3 2 3 3 2 1 2 1 2 2 2 2 0 0 3 1 3 1 0 3 2 2 0 0 2 3 2 0 0 0 2 3 0 3 3 2 1\n",
      " 3 2 3 3 0 3 0 3 1 3 1 2 2 2 0 2 1 2 1 2 2 3 0 3 1 3 2 3 2 3 3 2 2 0 1 1 2\n",
      " 2 2 0 2 0 2 3 0 0 1 0 3 0 1 3 1 2 0 1 3 0 3 2 2 3 3 3 0 3 2 0 2 2 0 3 0 3\n",
      " 2 1 2 2 0 2 1 3 3 3 2 2 2 0 2 2 2 2 1 1 3 2 0 2 1 1 2 1 3 2 2 2 1 3 1 0 3\n",
      " 2 3 3 0 3 0 0 0 2 2 1 0 1 2 1 0 2 2 2 0 0 0 0 0 3 2 3 1 0 2 2 2 3 2 1 0 1\n",
      " 0 3 2 2 2 3 3 0 2 1 2 1 1 2 0 2 1 0 2 2 0 3 0 2 2 3 2 0 0 0 1 3 0 0 2 3 2\n",
      " 3 3 0 3 3 2 0 1 3 2 1 2 3 2 2 2 0 1 0 2 2 2 3 3 1 2 1 2 0 2 2 3 2 2 0 0 2\n",
      " 0 3 2 3 1 0 0 3 1 1 0 0 2 1 3 0 3 2 3 2 0 2 3 2 3 3 2 3 1 3 3 3 2 0 3 2 1\n",
      " 2 0 0 3 2 2 1 0 2 0 0 0 3 1 1 2 2 1 2 0 3 3 0 0 2 0 0 2 1 2 3 2 3 1 2 2 1\n",
      " 3 2 3 3 2 0 2 0 0 1 2 0 0 2 1 2 2 3 1 0 1 0 3 2 0 1 3 2 2 0 0 2 2 1 3 3 2\n",
      " 3 1 2 2 3 0 3 2 3 2 2 2 2 1 2 0 2 2 2 1 2 0 3 3 2 2 0 2 1 1 2 3 3 2 3 0 1\n",
      " 2 3 2 1 2 2 2 1 1 2 2 2 2 1 0 2 0 1 2 2 3 1 2 0 3 0 0 0 2 3 1 0 2 3 3 3 2\n",
      " 2 0 3 2 2 2 3 0 0 1 2 2 3 3 2 1 1 0 2 0 2 0 0 2 3 1 0 1 2 2 2]\n",
      "{0: [0, 4, 8, 17, 18, 19, 22, 26, 49, 50, 55, 59, 60, 64, 65, 66, 69, 78, 80, 88, 96, 107, 113, 115, 118, 119, 121, 123, 128, 131, 138, 141, 144, 146, 152, 161, 170, 183, 188, 190, 191, 192, 196, 200, 204, 205, 206, 207, 208, 213, 220, 222, 229, 236, 239, 242, 244, 249, 250, 251, 254, 255, 261, 265, 275, 277, 287, 293, 294, 296, 301, 302, 306, 307, 311, 316, 329, 334, 335, 340, 342, 343, 344, 352, 355, 356, 358, 359, 375, 377, 378, 381, 382, 389, 391, 394, 399, 400, 412, 422, 428, 433, 442, 458, 460, 467, 469, 470, 471, 475, 482, 488, 489, 498, 500, 502, 503, 507], 1: [1, 3, 5, 7, 11, 15, 24, 28, 31, 33, 42, 44, 52, 54, 73, 82, 84, 90, 92, 98, 108, 109, 120, 124, 126, 129, 149, 154, 166, 167, 172, 173, 175, 180, 182, 195, 197, 199, 212, 219, 221, 231, 233, 234, 238, 252, 266, 269, 276, 283, 285, 300, 304, 305, 309, 324, 332, 339, 346, 347, 350, 361, 366, 369, 379, 384, 388, 390, 395, 403, 408, 420, 426, 435, 436, 443, 447, 451, 452, 457, 461, 465, 474, 490, 496, 497, 506, 508], 2: [6, 9, 10, 12, 13, 16, 21, 23, 25, 29, 30, 32, 34, 35, 36, 38, 41, 43, 45, 46, 47, 48, 57, 58, 61, 63, 67, 72, 75, 85, 86, 87, 89, 91, 93, 94, 100, 102, 105, 106, 110, 111, 112, 114, 116, 127, 133, 134, 140, 142, 143, 148, 150, 151, 153, 158, 159, 160, 162, 163, 164, 165, 169, 171, 174, 177, 178, 179, 185, 193, 194, 198, 201, 202, 203, 210, 214, 215, 216, 218, 224, 225, 226, 230, 232, 235, 237, 240, 241, 245, 246, 248, 256, 258, 264, 268, 270, 272, 273, 274, 278, 279, 280, 284, 286, 288, 289, 291, 292, 295, 298, 308, 313, 315, 317, 319, 322, 328, 331, 333, 337, 338, 341, 348, 349, 351, 357, 360, 362, 364, 367, 368, 371, 374, 376, 380, 383, 385, 386, 393, 397, 398, 401, 402, 406, 409, 410, 414, 416, 417, 418, 419, 421, 423, 424, 425, 427, 431, 432, 434, 437, 440, 444, 446, 448, 449, 450, 453, 454, 455, 456, 459, 462, 463, 466, 472, 476, 480, 481, 484, 485, 486, 491, 492, 495, 499, 501, 504, 509, 510, 511], 3: [2, 14, 20, 27, 37, 39, 40, 51, 53, 56, 62, 68, 70, 71, 74, 76, 77, 79, 81, 83, 95, 97, 99, 101, 103, 104, 117, 122, 125, 130, 132, 135, 136, 137, 139, 145, 147, 155, 156, 157, 168, 176, 181, 184, 186, 187, 189, 209, 211, 217, 223, 227, 228, 243, 247, 253, 257, 259, 260, 262, 263, 267, 271, 281, 282, 290, 297, 299, 303, 310, 312, 314, 318, 320, 321, 323, 325, 326, 327, 330, 336, 345, 353, 354, 363, 365, 370, 372, 373, 387, 392, 396, 404, 405, 407, 411, 413, 415, 429, 430, 438, 439, 441, 445, 464, 468, 473, 477, 478, 479, 483, 487, 493, 494, 505]}\n"
     ]
    }
   ],
   "source": [
    "dictionary_file_to_index_in_each_cluster = {}\n",
    "for picture_name in dictionary_file_to_best_clustering.keys():\n",
    "    file_path_cluster = f\"{directory_clusters}/clusters_{picture_name}.npz\"\n",
    "    if not os.path.exists(file_path_cluster):\n",
    "        print(f\"File {file_path_cluster} does not exist.\")\n",
    "        continue\n",
    "    best_number_cluster, best_method = dictionary_file_to_best_clustering[picture_name]\n",
    "    data = np.load(file_path_cluster)\n",
    "    heatmap_file = f\"{picture_name}.npz\"\n",
    "    _, _, _, index_in_each_cluster = get_feature_per_cluster(data, best_number_cluster, best_method, heatmap_file, base_path)\n",
    "    dictionary_file_to_index_in_each_cluster[picture_name] = index_in_each_cluster"
   ],
   "metadata": {
    "collapsed": false
   }
  },
  {
   "cell_type": "code",
   "execution_count": 23,
   "outputs": [
    {
     "name": "stdout",
     "output_type": "stream",
     "text": [
      "{0: [1, 0, 1, 0, 0, 1, 0, 0, 1, 0, 1, 1, 1, 1, 0, 0, 0, 0, 1, 1], 1: [0, 1, 0, 1, 0, 0, 0, 1, 0, 1, 0, 0, 0, 0, 0, 0, 0, 1, 0, 0], 2: [0, 0, 0, 0, 0, 0, 0, 0, 0, 0, 0, 0, 0, 0, 1, 0, 1, 0, 0, 0], 3: [0, 0, 0, 0, 1, 0, 1, 0, 0, 0, 0, 0, 0, 0, 0, 1, 0, 0, 0, 0]}\n"
     ]
    }
   ],
   "source": [
    "import numpy as np\n",
    "\n",
    "def listes_binaire_par_valeur(lst):\n",
    "    arr = np.array(lst)\n",
    "    indices_dict = {}\n",
    "    for val in np.unique(arr):\n",
    "        binaire = np.zeros(len(arr), dtype=int)  # Crée une liste de zéros de taille 512\n",
    "        binaire[np.where(arr == val)[0]] = 1     # Met un 1 aux indices correspondant à la valeur\n",
    "        indices_dict[val] = binaire.tolist()\n",
    "    return indices_dict\n",
    "\n",
    "# Exemple d'utilisation :\n",
    "lst = [0, 1, 0, 1, 3, 0, 3, 1, 0, 1, 0, 0, 0, 0, 2, 3, 2, 1, 0, 0]\n",
    "result = listes_binaire_par_valeur(lst)\n",
    "print(result)\n"
   ],
   "metadata": {
    "collapsed": false
   }
  },
  {
   "cell_type": "code",
   "execution_count": 24,
   "outputs": [],
   "source": [
    "all_values = get_all_different_element_in_cluster_meaning(dictionnary_file_to_clusters_meaning)"
   ],
   "metadata": {
    "collapsed": false
   }
  },
  {
   "cell_type": "code",
   "execution_count": 27,
   "outputs": [
    {
     "name": "stdout",
     "output_type": "stream",
     "text": [
      "25\n"
     ]
    }
   ],
   "source": [
    "\n",
    "dictionary_file_to_best_clustering = {\n",
    "    \"n02423022_1601\": (3, KMEANS_CONST),\n",
    "    \"n02423022_1721\": (6,KMEANS_CONST),\n",
    "    \"n02423022_5834\": (2, KMEANS_CONST),\n",
    "    \"n02423022_219\": (5, KMEANS_CONST),\n",
    "    \"n02423022_425\": (7, KMEANS_CONST),\n",
    "    \"n02423022_950\": (8, KMEANS_CONST),\n",
    "    \"n02423022_1719\": (4, KMEANS_CONST),\n",
    "    \"n02423022_2853\": (9, KMEANS_CONST),\n",
    "    \"n02423022_3333\": (5, KMEANS_CONST),\n",
    "    \"n02423022_26471\": (7,KMEANS_CONST),\n",
    "    \"n02423022_2925\": (2, KMEANS_CONST),\n",
    "    \"n02423022_10849\": (2,KMEANS_CONST),\n",
    "    \"n02423022_39890\": (6,KMEANS_CONST),\n",
    "    \"n02423022_976\": (3, KMEANS_CONST),\n",
    "    \"n02423022_26532\": (4,KMEANS_CONST),\n",
    "    \"n02423022_3614\": (8,KMEANS_CONST),\n",
    "    \"n02423022_933\": (13,KMEANS_CONST),\n",
    "    \"n02423022_418\": (3, KMEANS_CONST),\n",
    "    \"n02423022_3341\": (2, KMEANS_CONST),\n",
    "    \"n02423022_6092\": (2, KMEANS_CONST),\n",
    "    \"n02423022_11080\": (7, KMEANS_CONST),\n",
    "    \"n02423022_233\": (3, KMEANS_CONST),\n",
    "    \"n02423022_9189\": (6, KMEANS_CONST),\n",
    "    \"n02423022_4539\": (2, KMEANS_CONST),\n",
    "    \"n02423022_2640\": (3, KMEANS_CONST),\n",
    "}\n",
    "print(len(dictionary_file_to_best_clustering.keys()))"
   ],
   "metadata": {
    "collapsed": false
   }
  },
  {
   "cell_type": "code",
   "execution_count": 25,
   "outputs": [],
   "source": [
    "colors = [\n",
    "    \"#E6194B\",  # Rouge vif\n",
    "    \"#3CB44B\",  # Vert vif\n",
    "    \"#FFE119\",  # Jaune\n",
    "    \"#4363D8\",  # Bleu vif\n",
    "    \"#F58231\",  # Orange\n",
    "    \"#911EB4\",  # Violet\n",
    "    \"#46F0F0\",  # Cyan\n",
    "    \"#F032E6\",  # Rose\n",
    "    \"#BCF60C\",  # Vert clair\n",
    "    \"#FABEBE\"   # Rose clair\n",
    "]"
   ],
   "metadata": {
    "collapsed": false
   }
  },
  {
   "cell_type": "code",
   "execution_count": 26,
   "outputs": [],
   "source": [
    "FILE_NAME_CONST = \"file_name\"\n",
    "INDEX_IN_EACH_CLUSTER_CONST = \"index_in_each_cluster\"\n",
    "DICTIONARY_EQUIVALENCE_CONST = \"dictionary_equivalence\"\n",
    "ALL_VALUES_CONST = \"all_values\""
   ],
   "metadata": {
    "collapsed": false
   }
  },
  {
   "cell_type": "code",
   "execution_count": 27,
   "outputs": [],
   "source": [
    "dictionary_comparison_2_files = {}"
   ],
   "metadata": {
    "collapsed": false
   }
  },
  {
   "cell_type": "markdown",
   "source": [
    "If you want to compare two files, you can use the following code."
   ],
   "metadata": {
    "collapsed": false
   }
  },
  {
   "cell_type": "code",
   "execution_count": 57,
   "outputs": [],
   "source": [
    "first_picture_to_compare = \"n01829413_46\"\n",
    "second_picture_to_compare = \"n01829413_5429\""
   ],
   "metadata": {
    "collapsed": false
   }
  },
  {
   "cell_type": "code",
   "execution_count": 58,
   "outputs": [],
   "source": [
    "index_in_each_cluster_1 = dictionary_file_to_index_in_each_cluster[first_picture_to_compare]\n",
    "index_in_each_cluster_2 = dictionary_file_to_index_in_each_cluster[second_picture_to_compare]"
   ],
   "metadata": {
    "collapsed": false
   }
  },
  {
   "cell_type": "code",
   "execution_count": 59,
   "outputs": [],
   "source": [
    "dict_equivalence_1 = dictionnary_file_to_clusters_meaning[first_picture_to_compare]\n",
    "dict_equivalence_2 = dictionnary_file_to_clusters_meaning[second_picture_to_compare]"
   ],
   "metadata": {
    "collapsed": false
   }
  },
  {
   "cell_type": "code",
   "execution_count": 60,
   "outputs": [],
   "source": [
    "dictionary_comparison_2_files[FILE_NAME_CONST] = (first_picture_to_compare, second_picture_to_compare)\n",
    "dictionary_comparison_2_files[INDEX_IN_EACH_CLUSTER_CONST] = (index_in_each_cluster_1, index_in_each_cluster_2)\n",
    "dictionary_comparison_2_files[DICTIONARY_EQUIVALENCE_CONST] = (dict_equivalence_1, dict_equivalence_2)\n",
    "dictionary_comparison_2_files[ALL_VALUES_CONST] = all_values"
   ],
   "metadata": {
    "collapsed": false
   }
  },
  {
   "cell_type": "code",
   "execution_count": 61,
   "outputs": [
    {
     "data": {
      "text/plain": "<Figure size 1000x600 with 1 Axes>",
      "image/png": "[encoded data removed]"
     },
     "metadata": {},
     "output_type": "display_data"
    }
   ],
   "source": [
    "compare_2_dict(dictionary_comparison_2_files, list_colors= colors, dictionary_class_index=dictionary_class_index)"
   ],
   "metadata": {
    "collapsed": false
   }
  },
  {
   "cell_type": "markdown",
   "source": [
    "If you want to compare multiple file and each feature is assigned to the cluster where it is the most frequent, you can use the following code.\n",
    "If it appears 1 times everywhere it is assigned to the None cluster\n",
    "If it appears in equal proportion in multiple clusters, it is assigned to the first cluster where it appear in such proportion"
   ],
   "metadata": {
    "collapsed": false
   }
  },
  {
   "cell_type": "markdown",
   "source": [
    "Modifie le nom dans save_name_prefix pour modifier le nom sous lesquel ce sera sauvegardé (mets un truc pas trop long)\n",
    "seuil_to_None permet de fdéfinir à partir de combien d'occurence on garde dans la class. Si par exemple tu mets 2 et que l'occurrence max d'une feature est 1 alors elle sera mise dans None\n",
    "seuil_is_mean permet de remplacer seuil_to_None pour définir directement seuil_to_None comme étant la moyenne arrondi à l'inférieur du nombre de fichier traiter (le nombre de clef dns dictionnary_file_to_clusters_meaning)"
   ],
   "metadata": {
    "collapsed": false
   }
  },
  {
   "cell_type": "code",
   "execution_count": 31,
   "outputs": [
    {
     "data": {
      "text/plain": "<Figure size 1200x700 with 1 Axes>",
      "image/png": "[encoded data removed]"
     },
     "metadata": {},
     "output_type": "display_data"
    }
   ],
   "source": [
    "compare_X_dict(dictionnary_file_to_clusters_meaning, dictionary_file_to_index_in_each_cluster, all_values, list_colors=colors, dictionary_class_index=dictionary_class_index, seuil_to_None = 0, base_path = base_path, save_name_prefix = \"t1\")"
   ],
   "metadata": {
    "collapsed": false
   }
  },
  {
   "cell_type": "markdown",
   "source": [
    "DEssous : si apparait une fois : déplacer dans None cluster"
   ],
   "metadata": {
    "collapsed": false
   }
  },
  {
   "cell_type": "code",
   "execution_count": null,
   "outputs": [],
   "source": [
    "compare_X_dict(dictionnary_file_to_clusters_meaning, dictionary_file_to_index_in_each_cluster, all_values, list_colors=colors, dictionary_class_index=dictionary_class_index, base_path = base_path, save_name_prefix = \"e1_seuil1\", seuil_is_mean = True)"
   ],
   "metadata": {
    "collapsed": false
   }
  }
 ],
 "metadata": {
  "kernelspec": {
   "display_name": "Python 3",
   "language": "python",
   "name": "python3"
  },
  "language_info": {
   "codemirror_mode": {
    "name": "ipython",
    "version": 2
   },
   "file_extension": ".py",
   "mimetype": "text/x-python",
   "name": "python",
   "nbconvert_exporter": "python",
   "pygments_lexer": "ipython2",
   "version": "2.7.6"
  }
 },
 "nbformat": 4,
 "nbformat_minor": 0
}
